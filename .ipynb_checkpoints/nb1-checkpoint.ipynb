{
 "cells": [
  {
   "cell_type": "code",
   "execution_count": 5,
   "metadata": {
    "collapsed": false
   },
   "outputs": [],
   "source": [
    "import csv\n",
    "with open('/Users/yanzhibai/repos/python-practice/writecsv.csv', 'w') as output_file:\n",
    "        headers = ['ari', 'prefix', 'first', 'middle', 'last', 'suffix']\n",
    "        writer = csv.DictWriter(output_file, fieldnames = headers)\n",
    "        writer.writeheader()\n",
    "\n",
    "        writer.writerow({'first':'first_name', 'last':'last_name'})"
   ]
  },
  {
   "cell_type": "code",
   "execution_count": 12,
   "metadata": {
    "collapsed": false
   },
   "outputs": [
    {
     "name": "stdout",
     "output_type": "stream",
     "text": [
      "111\n"
     ]
    }
   ],
   "source": [
    "class Ca:\n",
    "    def func1(self):\n",
    "        print 111\n",
    "ca = Ca()\n",
    "method_to_call = getattr(ca, 'func1')\n",
    "method_to_call()\n"
   ]
  },
  {
   "cell_type": "code",
   "execution_count": 19,
   "metadata": {
    "collapsed": false
   },
   "outputs": [
    {
     "name": "stdout",
     "output_type": "stream",
     "text": [
      "0010-3922-RTLD  d\n",
      "0193-0243-QDOK  d\n",
      "0403-7081-EPUA  d\n",
      "0639-7081-WALD   n\n",
      "1209-7727-KGHF  d\n",
      "1351-9821-TZHN  d\n",
      "{'last': 'St John', 'first': 'Sarah'}\n",
      "1685-2958-LANW  d\n",
      "1709-2811-JSYW  d\n",
      "2092-2355-ZXXJ  d\n",
      "2191-7684-SENQ   n\n",
      "{'last': 'Yawn', 'first': 'Aida'}\n",
      "{'last': 'Custer', 'first': 'Natashia'}\n",
      "2916-9268-NRDH  d\n",
      "3358-0533-CSMH  d\n",
      "3480-5174-KWUV  d\n",
      "3616-3936-KFRG  d\n",
      "{'last': 'Christian', 'first': 'Stacy'}\n",
      "{'last': 'Coleman', 'first': 'Peggy'}\n",
      "3959-1833-APJW  d\n",
      "3959-1833-APJW  d\n",
      "{'last': 'Mejia', 'suffix': 'Jr', 'first': 'Marcelino'}\n",
      "4096-2686-BDSU   n\n",
      "4224-0142-HSYQ  d\n",
      "4275-8351-MTWR   n\n",
      "{'last': 'Ross', 'first': 'Tasha'}\n",
      "4775-7646-SOFL  d\n",
      "4779-4070-GLWM   n\n",
      "4867-4329-BEKT  d\n",
      "4894-8501-EHKL  d\n",
      "4926-2688-TQNM  d\n",
      "5019-6392-HAVN   n\n",
      "5765-8305-ESET  d\n",
      "5822-8527-TLUZ  d\n",
      "5855-3189-HELA  d\n",
      "6034-5807-GDYC  d\n",
      "6407-6523-WEMT  d\n",
      "6444-8075-YVES  d\n",
      "{'last': 'Jones', 'first': 'Evelyn'}\n",
      "6521-4654-YXIC  d\n",
      "6646-8086-YRBT  d\n",
      "6811-9361-SAKR  d\n",
      "6837-7866-TBSK  d\n",
      "6926-3405-WEZV  d\n",
      "7110-8311-FVGI  d\n",
      "{'last': 'Rondon', 'first': 'Candis'}\n",
      "7359-7596-RANE  d\n",
      "7370-9846-IYFN  d\n",
      "7408-5823-QFGV  d\n",
      "7637-7913-OUDU  d\n",
      "7706-8867-YCUS  d\n",
      "{'last': 'Castaneda', 'first': 'Orlando'}\n",
      "7897-3349-DOLT  d\n",
      "8113-5429-ODYH   n\n",
      "8268-3007-FTOK   n\n",
      "{'last': 'Compere', 'first': 'Ammo'}\n",
      "{'last': 'Smith', 'first': 'April'}\n",
      "{'last': 'Moore', 'first': 'Angelica'}\n",
      "{'last': 'Billingsley', 'first': 'Johanna'}\n",
      "{'last': 'Rojas', 'first': 'Ivon'}\n",
      "9078-5483-CVZM   n\n",
      "9343-5441-WGGV  d\n",
      "9903-5742-DHXH  d\n"
     ]
    }
   ],
   "source": [
    "\n",
    "with open('/Users/yanzhibai/data/First_Last_names_exceptions_fixes.linux.csv') as names_input:\n",
    "        dict_reader = csv.DictReader(names_input)\n",
    "        for row in dict_reader:\n",
    "            if row['action'].strip() == 'n':\n",
    "                print row['ari'].strip() + '   n'\n",
    "                continue\n",
    "            elif row['action'].strip() == 'd':\n",
    "                    user_ari = row['ari'].strip()\n",
    "                    print user_ari + '  d'\n",
    "            elif row['action'].strip() == 'r':\n",
    "                    name_dict = {'first':row['first'].strip(), 'last':row['last'].strip()}\n",
    "                    if row['middle'].strip():\n",
    "                        name_dict['middle'] = row['middle'].strip()\n",
    "                    if row['suffix'].strip():\n",
    "                        name_dict['suffix'] = row['suffix'].strip()\n",
    "                    # new_name = Name(name_dict)\n",
    "                    print name_dict\n"
   ]
  },
  {
   "cell_type": "code",
   "execution_count": null,
   "metadata": {
    "collapsed": true
   },
   "outputs": [],
   "source": []
  }
 ],
 "metadata": {
  "kernelspec": {
   "display_name": "Python 2",
   "language": "python",
   "name": "python2"
  },
  "language_info": {
   "codemirror_mode": {
    "name": "ipython",
    "version": 2
   },
   "file_extension": ".py",
   "mimetype": "text/x-python",
   "name": "python",
   "nbconvert_exporter": "python",
   "pygments_lexer": "ipython2",
   "version": "2.7.10"
  }
 },
 "nbformat": 4,
 "nbformat_minor": 0
}
