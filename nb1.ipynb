{
 "cells": [
  {
   "cell_type": "code",
   "execution_count": 5,
   "metadata": {
    "collapsed": false
   },
   "outputs": [],
   "source": [
    "import csv\n",
    "with open('/Users/yanzhibai/repos/python-practice/writecsv.csv', 'w') as output_file:\n",
    "        headers = ['ari', 'prefix', 'first', 'middle', 'last', 'suffix']\n",
    "        writer = csv.DictWriter(output_file, fieldnames = headers)\n",
    "        writer.writeheader()\n",
    "\n",
    "        writer.writerow({'first':'first_name', 'last':'last_name'})"
   ]
  },
  {
   "cell_type": "code",
   "execution_count": 12,
   "metadata": {
    "collapsed": false
   },
   "outputs": [
    {
     "name": "stdout",
     "output_type": "stream",
     "text": [
      "111\n"
     ]
    }
   ],
   "source": [
    "class Ca:\n",
    "    def func1(self):\n",
    "        print 111\n",
    "ca = Ca()\n",
    "method_to_call = getattr(ca, 'func1')\n",
    "method_to_call()\n"
   ]
  },
  {
   "cell_type": "code",
   "execution_count": 22,
   "metadata": {
    "collapsed": false
   },
   "outputs": [
    {
     "name": "stdout",
     "output_type": "stream",
     "text": [
      "  d\n",
      "  d\n",
      "  d\n",
      "   n\n",
      "  d\n",
      "  d\n",
      "{'last': 'St John', 'first': 'Sarah'}\n",
      "  d\n",
      "  d\n",
      "  d\n",
      "   n\n",
      "{'last': 'Yawn', 'first': 'Aida'}\n",
      "{'last': 'Custer', 'first': 'Natashia'}\n",
      "  d\n",
      "  d\n",
      "  d\n",
      "  d\n",
      "{'last': 'Christian', 'first': 'Stacy'}\n",
      "{'last': 'Coleman', 'first': 'Peggy'}\n",
      "  d\n",
      "  d\n",
      "{'last': 'Mejia', 'suffix': 'Jr', 'first': 'Marcelino'}\n",
      "   n\n",
      "  d\n",
      "   n\n",
      "{'last': 'Ross', 'first': 'Tasha'}\n",
      "  d\n",
      "   n\n",
      "  d\n",
      "  d\n",
      "  d\n",
      "   n\n",
      "  d\n",
      "  d\n",
      "  d\n",
      "  d\n",
      "  d\n",
      "  d\n",
      "{'last': 'Jones', 'first': 'Evelyn'}\n",
      "  d\n",
      "  d\n",
      "  d\n",
      "  d\n",
      "  d\n",
      "  d\n",
      "{'last': 'Rondon', 'first': 'Candis'}\n",
      "  d\n",
      "  d\n",
      "  d\n",
      "  d\n",
      "  d\n",
      "{'last': 'Castaneda', 'first': 'Orlando'}\n",
      "  d\n",
      "   n\n",
      "   n\n",
      "{'last': 'Compere', 'first': 'Ammo'}\n",
      "{'last': 'Smith', 'first': 'April'}\n",
      "{'last': 'Moore', 'first': 'Angelica'}\n",
      "{'last': 'Billingsley', 'first': 'Johanna'}\n",
      "{'last': 'Rojas', 'first': 'Ivon'}\n",
      "   n\n",
      "  d\n",
      "  d\n"
     ]
    }
   ],
   "source": [
    "\n",
    "with open('/Users/yanzhibai/data/2229/First_Last_names_exceptions_fixes.linux.csv') as names_input:\n",
    "        dict_reader = csv.DictReader(names_input)\n",
    "        for row in dict_reader:\n",
    "            if row['action'].strip() == 'n':\n",
    "                print row['last'].strip() + '   n'\n",
    "                continue\n",
    "            elif row['action'].strip() == 'd':\n",
    "                    user_ari = row['last'].strip()\n",
    "                    print user_ari + '  d'\n",
    "            elif row['action'].strip() == 'r':\n",
    "                    name_dict = {'first':row['first'].strip(), 'last':row['last'].strip()}\n",
    "                    if row['middle'].strip():\n",
    "                        name_dict['middle'] = row['middle'].strip()\n",
    "                    if row['suffix'].strip():\n",
    "                        name_dict['suffix'] = row['suffix'].strip()\n",
    "                    # new_name = Name(name_dict)\n",
    "                    print name_dict\n"
   ]
  },
  {
   "cell_type": "code",
   "execution_count": 24,
   "metadata": {
    "collapsed": false
   },
   "outputs": [],
   "source": [
    "with open('/Users/yanzhibai/data/2229/empty.csv') as names_input:\n",
    "    for line in names_input:\n",
    "        print 'here' + line\n",
    "        "
   ]
  },
  {
   "cell_type": "code",
   "execution_count": null,
   "metadata": {
    "collapsed": true
   },
   "outputs": [],
   "source": []
  },
  {
   "cell_type": "code",
   "execution_count": null,
   "metadata": {
    "collapsed": true
   },
   "outputs": [],
   "source": []
  }
 ],
 "metadata": {
  "kernelspec": {
   "display_name": "Python 2",
   "language": "python",
   "name": "python2"
  },
  "language_info": {
   "codemirror_mode": {
    "name": "ipython",
    "version": 2
   },
   "file_extension": ".py",
   "mimetype": "text/x-python",
   "name": "python",
   "nbconvert_exporter": "python",
   "pygments_lexer": "ipython2",
   "version": "2.7.10"
  }
 },
 "nbformat": 4,
 "nbformat_minor": 0
}
